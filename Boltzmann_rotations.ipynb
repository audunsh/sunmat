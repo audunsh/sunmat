{
 "cells": [
  {
   "cell_type": "code",
   "execution_count": 143,
   "metadata": {},
   "outputs": [],
   "source": [
    "#import hylleraas.sunmat as sm  \n",
    "import sunmat as sm\n",
    "import numpy as np\n",
    "import matplotlib.pyplot as plt"
   ]
  },
  {
   "cell_type": "markdown",
   "metadata": {},
   "source": [
    "## Boltzmann-weighted unitary rotations\n",
    "\n",
    "The special orthogonal $\\text{n}$ by $\\text{n}$ ( $\\text{SO(n)}$ ) matrix which mixes between the ground state $\\vert 0 \\rangle$ and the excited space $\\{ \\vert a \\rangle \\}_{ 1<a}^N$ may be expressed by:\n",
    "\\begin{equation}\n",
    "\\tilde{U}(\\{\\theta\\}) = \n",
    "    \\mathbb{1}\n",
    "    \\prod_{1 < a}^N \\Big{(}\n",
    "    \\vert 0 \\rangle \\text{cos}(\\theta_{0a}) \\langle 0 \\vert -\n",
    "    \\vert a \\rangle \\text{sin}(\\theta_{0a}) \\langle 0 \\vert +\n",
    "    \\vert 0 \\rangle \\text{sin}(\\theta_{0a}) \\langle q \\vert +\n",
    "    \\vert a \\rangle \\text{cos}(\\theta_{0a}) \\langle q \\vert\n",
    "    \\Big{)},\n",
    "\\end{equation}\n",
    "where the angles $\\{ \\theta_{0a} \\}$ rotates between the ground state and excited state $\\vert a \\rangle$. (The identity matrix $\\mathbb{1}$ is required in order to avoid removal of the ground state when performing the rotation.)\n",
    "\n",
    "These kinds of matrices can be parameterized by means of the sunmat-module, which is to be included on the <a href=\"https://gitlab.com/hylleraasplatform/hylleraas\">Hylleraas Software Platform</a>.  \n",
    "\n",
    "See <a href=\"https://github.com/audunsh/sunmat/blob/master/suNmat_tutorial.ipynb\">github/audunsh</a> for further documentation on the sunmat module.\n",
    "\n",
    "The rotations may be performed weighted by a Boltzmann weighted distribution in the following manner:"
   ]
  },
  {
   "cell_type": "code",
   "execution_count": 169,
   "metadata": {},
   "outputs": [],
   "source": [
    "n_states = 10 #number of (plane wave) states in total \n",
    "\n",
    "groundstate = [0]  # this state is to be mixed...\n",
    "excited_states = np.arange(1,n_states) # ...with all of these\n",
    "\n",
    "eigenvalues = np.cumsum(np.random.uniform(0,1,n_states)) # mock eigenvalues\n",
    "\n",
    "\n",
    "nx, U = sm.suNia(n_states,groundstate,excited_states) # parameterized mixing matrix"
   ]
  },
  {
   "cell_type": "code",
   "execution_count": 170,
   "metadata": {},
   "outputs": [
    {
     "data": {
      "text/plain": [
       "array([[ 1., -0., -0., -0., -0., -0., -0., -0., -0., -0.],\n",
       "       [ 0.,  1., -0., -0., -0., -0., -0., -0., -0., -0.],\n",
       "       [ 0.,  0.,  1., -0., -0., -0., -0., -0., -0., -0.],\n",
       "       [ 0.,  0.,  0.,  1., -0., -0., -0., -0., -0., -0.],\n",
       "       [ 0.,  0.,  0.,  0.,  1., -0., -0., -0., -0., -0.],\n",
       "       [ 0.,  0.,  0.,  0.,  0.,  1., -0., -0., -0., -0.],\n",
       "       [ 0.,  0.,  0.,  0.,  0.,  0.,  1., -0., -0., -0.],\n",
       "       [ 0.,  0.,  0.,  0.,  0.,  0.,  0.,  1., -0., -0.],\n",
       "       [ 0.,  0.,  0.,  0.,  0.,  0.,  0.,  0.,  1., -0.],\n",
       "       [ 0.,  0.,  0.,  0.,  0.,  0.,  0.,  0.,  0.,  1.]])"
      ]
     },
     "execution_count": 170,
     "metadata": {},
     "output_type": "execute_result"
    }
   ],
   "source": [
    "U(np.zeros(n_states)) # no rotation SO(n), should be identity"
   ]
  },
  {
   "cell_type": "code",
   "execution_count": 171,
   "metadata": {},
   "outputs": [],
   "source": [
    "stepsize = 1 # adjust maximum rotation\n",
    "\n",
    "probabilities = np.exp(-eigenvalues)/np.sum(np.exp(-eigenvalues)) #mock Boltzmann probablites, sums to one\n",
    "\n",
    "params = probabilities*np.random.uniform(-1,1,n_states)*stepsize # random parameters weighted by the Boltzmann distributin\n",
    "\n",
    "u_random = U(params) #the random rotation matrix, mixing the ground state with the excited space"
   ]
  },
  {
   "cell_type": "code",
   "execution_count": 173,
   "metadata": {},
   "outputs": [
    {
     "data": {
      "image/png": "[encoded data removed]",
      "text/plain": [
       "<Figure size 432x288 with 1 Axes>"
      ]
     },
     "metadata": {
      "needs_background": "light"
     },
     "output_type": "display_data"
    }
   ],
   "source": [
    "# Visual inspection of the rotation matrix\n",
    "plt.imshow(u_random)\n",
    "plt.show()"
   ]
  },
  {
   "cell_type": "code",
   "execution_count": 174,
   "metadata": {},
   "outputs": [
    {
     "name": "stdout",
     "output_type": "stream",
     "text": [
      "ux is orthogonal: True\n"
     ]
    }
   ],
   "source": [
    "# Make sure ux(params) is orthogonal\n",
    "\n",
    "print(\"ux is orthogonal:\", np.linalg.norm(u_random.T.dot(u_random) - np.eye(n_states) ) <1e-15)"
   ]
  }
 ],
 "metadata": {
  "kernelspec": {
   "display_name": "Python 3",
   "language": "python",
   "name": "python3"
  },
  "language_info": {
   "codemirror_mode": {
    "name": "ipython",
    "version": 3
   },
   "file_extension": ".py",
   "mimetype": "text/x-python",
   "name": "python",
   "nbconvert_exporter": "python",
   "pygments_lexer": "ipython3",
   "version": "3.7.4"
  }
 },
 "nbformat": 4,
 "nbformat_minor": 2
}
