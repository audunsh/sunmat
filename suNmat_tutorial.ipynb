{
 "cells": [
  {
   "cell_type": "markdown",
   "metadata": {},
   "source": [
    "# Sunmat tutorial\n",
    "\n",
    "*Author: Audun Skau Hansen (a.s.hansen@kjemi.uio.no) , January 2019*\n",
    "\n",
    "This document gives a brief description of the sunmat module. As an example application, we use a gradient to find an arbitrary rotation of a 5 dimensional unit vector. You'll need the module <a href=\"https://github.com/HIPS/autograd\">autograd</a> to run this notebook.\n",
    "\n",
    "### Quick theoretical background\n",
    "\n",
    "---\n",
    "\n",
    "This module facilitates the generation of parametrized matrices with matrix elements $U_{ij} \\in \\mathbb{R}$\n",
    "\n",
    "\\begin{equation}\n",
    "U(\\varphi_1, \\varphi_2, ...),\n",
    "\\end{equation}\n",
    "\n",
    "with the property\n",
    "\n",
    "\\begin{equation}\n",
    "U^T(\\varphi_1, \\varphi_2, ...) U(\\varphi_1, \\varphi_2, ...) = \\mathbb{1}\n",
    "\\end{equation}\n"
   ]
  },
  {
   "cell_type": "markdown",
   "metadata": {},
   "source": [
    "<a href=\"https://en.wikipedia.org/wiki/Special_unitary_group\">More information on SU(n) representations</a>"
   ]
  },
  {
   "cell_type": "markdown",
   "metadata": {},
   "source": [
    "### Example\n",
    "\n",
    "For a random matrix A, with uniformly distributed elements $A_{ij} \\in (-1,1)$, we may construct a random anti-hermitean matrix $H$ as\n",
    "\n",
    "\\begin{equation}\n",
    "H = \\exp\\left( A^T - A \\right)  = \\sum_{n=0}^\\infty \\frac{\\left(A^T - A\\right)^n }{n!},\n",
    "\\end{equation}\n",
    "\n",
    "where $\\left( A^T - A \\right)^0 = \\mathbb{1}$.\n",
    "\n",
    "We may thus generate a random such matrix as follows:\n"
   ]
  },
  {
   "cell_type": "code",
   "execution_count": 1,
   "metadata": {},
   "outputs": [],
   "source": [
    "from scipy.linalg import expm\n",
    "import autograd.numpy as np # \n",
    "import autograd as ag\n",
    "\n",
    "def randU(n, m):\n",
    "    A = np.random.uniform(-m,m, (n,n))\n",
    "    return expm(A.T - A)"
   ]
  },
  {
   "cell_type": "markdown",
   "metadata": {},
   "source": [
    "Confirm that this matrix is within the space of the su(n) matrices:"
   ]
  },
  {
   "cell_type": "code",
   "execution_count": 2,
   "metadata": {},
   "outputs": [
    {
     "name": "stdout",
     "output_type": "stream",
     "text": [
      "H=\n",
      "[[ 0.54324137 -0.65767956 -0.22628149  0.47025854]\n",
      " [ 0.8212089   0.44990517  0.3058028  -0.17229607]\n",
      " [-0.16461522 -0.13478668  0.87982667  0.42501695]\n",
      " [-0.058366    0.58896136 -0.2849322   0.75401032]]\n",
      " \n",
      "H^T H =\n",
      "[[ 1.00000000e+00  8.99391245e-17  1.33176223e-17  3.90638630e-17]\n",
      " [ 8.99391245e-17  1.00000000e+00  4.28563801e-17  6.85175006e-18]\n",
      " [ 1.33176223e-17  4.28563801e-17  1.00000000e+00 -4.78418310e-17]\n",
      " [ 3.90638630e-17  6.85175006e-18 -4.78418310e-17  1.00000000e+00]]\n"
     ]
    }
   ],
   "source": [
    "H = randU(4, 1)\n",
    "print(\"H=\")\n",
    "print(H)\n",
    "print(\" \")\n",
    "print(\"H^T H =\")\n",
    "print(np.dot(H.T, H)) #Should be the 4 by 4 identity matrix to numerical precision"
   ]
  },
  {
   "cell_type": "markdown",
   "metadata": {},
   "source": [
    "Next, we want to reconstruct this matrix using the parametrized sunmat:"
   ]
  },
  {
   "cell_type": "code",
   "execution_count": 3,
   "metadata": {},
   "outputs": [],
   "source": [
    "import sunmat as sm"
   ]
  },
  {
   "cell_type": "code",
   "execution_count": 4,
   "metadata": {},
   "outputs": [
    {
     "name": "stdout",
     "output_type": "stream",
     "text": [
      "number of parameters: 6\n",
      "Identity:\n",
      "[[ 1. -0.  0.  0.]\n",
      " [ 0.  1.  0.  0.]\n",
      " [ 0.  0.  1. -0.]\n",
      " [ 0.  0.  0.  1.]]\n"
     ]
    }
   ],
   "source": [
    "\n",
    "n,u = sm.full_suN(4) #generate su(4) matrix\n",
    "#n,u = sm.suNia(4, [0,1,2,3], [0,1,2,3]) #optional more control of which rotations to include\n",
    "\n",
    "print(\"number of parameters:\", n)\n",
    "print(\"Identity:\")\n",
    "print(u(np.zeros(n, dtype = float)))"
   ]
  },
  {
   "cell_type": "markdown",
   "metadata": {},
   "source": [
    "We need an objective function to measure how closely the u matrix resembles H, so we define a matrix norm (omitting the square root):"
   ]
  },
  {
   "cell_type": "code",
   "execution_count": 5,
   "metadata": {},
   "outputs": [],
   "source": [
    "def mat_diff(x):\n",
    "    return np.sum((u(x) - H)**2)\n"
   ]
  },
  {
   "cell_type": "code",
   "execution_count": 6,
   "metadata": {},
   "outputs": [
    {
     "name": "stdout",
     "output_type": "stream",
     "text": [
      "Deviation from unity: 2.746032931840328\n"
     ]
    }
   ],
   "source": [
    "print(\"Deviation from unity:\", mat_diff(np.zeros(n, dtype = float)))"
   ]
  },
  {
   "cell_type": "markdown",
   "metadata": {},
   "source": [
    "To perform a crude optimization of this problem we need the gradient, so we use autograd:"
   ]
  },
  {
   "cell_type": "code",
   "execution_count": 7,
   "metadata": {},
   "outputs": [],
   "source": [
    "dm = ag.grad(mat_diff)"
   ]
  },
  {
   "cell_type": "markdown",
   "metadata": {},
   "source": [
    "Starting out from the identity matrix, we then simply follow the gradient naïvely:"
   ]
  },
  {
   "cell_type": "code",
   "execution_count": 10,
   "metadata": {},
   "outputs": [
    {
     "name": "stdout",
     "output_type": "stream",
     "text": [
      "Final objective value: 9.076527510687277e-18\n",
      "Parameters:\n",
      "[ 0.98636928 -0.1656529  -0.05839919 -0.16283925  0.6310181  -0.36130107]\n",
      "Final u(x_min) = \n",
      "[[ 0.54324137 -0.65767956 -0.22628149  0.47025854]\n",
      " [ 0.8212089   0.44990517  0.3058028  -0.17229607]\n",
      " [-0.16461522 -0.13478668  0.87982667  0.42501694]\n",
      " [-0.058366    0.58896136 -0.2849322   0.75401033]]\n",
      "H= \n",
      "[[ 0.54324137 -0.65767956 -0.22628149  0.47025854]\n",
      " [ 0.8212089   0.44990517  0.3058028  -0.17229607]\n",
      " [-0.16461522 -0.13478668  0.87982667  0.42501695]\n",
      " [-0.058366    0.58896136 -0.2849322   0.75401032]]\n"
     ]
    }
   ],
   "source": [
    "x_min = np.zeros(n, dtype = float)\n",
    "for i in np.arange(100):\n",
    "    x_min -= .1*dm(x_min)\n",
    "    \n",
    "print(\"Final objective value:\", mat_diff(x_min))\n",
    "print(\"Parameters:\")\n",
    "print(x_min)\n",
    "print(\"Final u(x_min) = \")\n",
    "print(u(x_min))\n",
    "print(\"H= \")\n",
    "print(H)"
   ]
  },
  {
   "cell_type": "markdown",
   "metadata": {},
   "source": [
    "In summary, we should see that the parameters converge toward reasonable values."
   ]
  },
  {
   "cell_type": "code",
   "execution_count": null,
   "metadata": {},
   "outputs": [],
   "source": []
  }
 ],
 "metadata": {
  "kernelspec": {
   "display_name": "Python 3",
   "language": "python",
   "name": "python3"
  },
  "language_info": {
   "codemirror_mode": {
    "name": "ipython",
    "version": 3
   },
   "file_extension": ".py",
   "mimetype": "text/x-python",
   "name": "python",
   "nbconvert_exporter": "python",
   "pygments_lexer": "ipython3",
   "version": "3.6.8"
  }
 },
 "nbformat": 4,
 "nbformat_minor": 2
}
